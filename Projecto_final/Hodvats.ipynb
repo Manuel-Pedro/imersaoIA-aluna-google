{
  "cells": [
    {
      "cell_type": "markdown",
      "metadata": {
        "id": "D_AYAG2XL2Bg"
      },
      "source": [
        "# **`Hodvats`** **IA**\n",
        "\n",
        "---\n",
        "\n",
        "\n",
        "\n",
        "---\n",
        "\n"
      ]
    },
    {
      "cell_type": "markdown",
      "metadata": {
        "id": "a50zbh2JL98w"
      },
      "source": [
        "### `Instalação de Pacotes (Biblioteca)`"
      ]
    },
    {
      "cell_type": "code",
      "execution_count": null,
      "metadata": {
        "id": "UjmcTJwKLxK_"
      },
      "outputs": [],
      "source": [
        "!pip install -U -q google-generativeai\n",
        "!pip install reportlab"
      ]
    },
    {
      "cell_type": "code",
      "execution_count": null,
      "metadata": {
        "id": "KWltQXk_cqYm"
      },
      "outputs": [],
      "source": [
        "!pip install markdown2"
      ]
    },
    {
      "cell_type": "markdown",
      "metadata": {
        "id": "kvEa8Yl7MHI1"
      },
      "source": [
        "### `Importação das Bibliotecas`"
      ]
    },
    {
      "cell_type": "code",
      "execution_count": null,
      "metadata": {
        "id": "zisBq7YCMMlQ"
      },
      "outputs": [],
      "source": [
        "import google.generativeai as genai\n",
        "from reportlab.lib import colors\n",
        "from reportlab.lib.pagesizes import letter\n",
        "from reportlab.platypus import SimpleDocTemplate, Paragraph, Spacer\n",
        "from reportlab.lib.styles import getSampleStyleSheet"
      ]
    },
    {
      "cell_type": "code",
      "execution_count": null,
      "metadata": {
        "id": "E4XvsK6McxRB"
      },
      "outputs": [],
      "source": [
        "import markdown2\n",
        "import textwrap\n",
        "from IPython.display import display\n",
        "from IPython.display import Markdown"
      ]
    },
    {
      "cell_type": "markdown",
      "metadata": {
        "id": "dytQak4FMc5H"
      },
      "source": [
        "# **`Congiguração do Modelo de IA`**"
      ]
    },
    {
      "cell_type": "code",
      "execution_count": null,
      "metadata": {
        "id": "fDeIE8ivMfD1"
      },
      "outputs": [],
      "source": [
        "Google_API_KEY='YOUR_API_KEY'\n",
        "# Configure a biblioteca cliente fornecendo sua chave API.\n",
        "genai.configure(api_key=Google_API_KEY)\n",
        "\n",
        "# Configure o modelo\n",
        "generation_config = {\n",
        "  \"temperature\": 1,\n",
        "  \"top_p\": 0.95,\n",
        "  \"top_k\": 0,\n",
        "  \"max_output_tokens\": 8192,\n",
        "}\n",
        "\n",
        "safety_settings = [\n",
        "  {\n",
        "    \"category\": \"HARM_CATEGORY_HARASSMENT\",\n",
        "    \"threshold\": \"BLOCK_MEDIUM_AND_ABOVE\"\n",
        "  },\n",
        "  {\n",
        "    \"category\": \"HARM_CATEGORY_HATE_SPEECH\",\n",
        "    \"threshold\": \"BLOCK_MEDIUM_AND_ABOVE\"\n",
        "  },\n",
        "  {\n",
        "    \"category\": \"HARM_CATEGORY_SEXUALLY_EXPLICIT\",\n",
        "    \"threshold\": \"BLOCK_MEDIUM_AND_ABOVE\"\n",
        "  },\n",
        "  {\n",
        "    \"category\": \"HARM_CATEGORY_DANGEROUS_CONTENT\",\n",
        "    \"threshold\": \"BLOCK_MEDIUM_AND_ABOVE\"\n",
        "  },\n",
        "]\n",
        "\n",
        "model = genai.GenerativeModel(model_name=\"gemini-1.5-pro-latest\",\n",
        "                              generation_config=generation_config,\n",
        "                              safety_settings=safety_settings)\n",
        "\n"
      ]
    },
    {
      "cell_type": "markdown",
      "metadata": {
        "id": "DBHJfmOwMsH5"
      },
      "source": [
        "### **`Crindo um Artigo`**\n"
      ]
    },
    {
      "cell_type": "code",
      "execution_count": null,
      "metadata": {
        "id": "JmVSkvKUMs6_"
      },
      "outputs": [],
      "source": [
        "chat = model.start_chat(history=[])\n",
        "\n",
        "prompt = input(\"Esperando prompt: \")\n",
        "\n",
        "while prompt != \"fim\":\n",
        "  response = chat.send_message(prompt)\n",
        "  print(response.text)\n",
        "  prompt = input(\"Esperando prompt: \")"
      ]
    },
    {
      "cell_type": "markdown",
      "metadata": {
        "id": "yAOZw_JoM_Jl"
      },
      "source": [
        "### `Criar o nome e o Tema do Artigo `"
      ]
    },
    {
      "cell_type": "code",
      "execution_count": null,
      "metadata": {
        "id": "dbnxJMWbNIpT"
      },
      "outputs": [],
      "source": [
        "nome_artigo = input(\"Digite o nome do arquivo: \")\n",
        "tem_artigo = input(\"Digite o Tema do arquivo: \")"
      ]
    },
    {
      "cell_type": "markdown",
      "metadata": {
        "id": "aGvV1UJRNO4A"
      },
      "source": [
        "# **`Gerar o Artigo em PDF`**"
      ]
    },
    {
      "cell_type": "code",
      "execution_count": null,
      "metadata": {
        "id": "F0DYA8SHZxfH"
      },
      "outputs": [],
      "source": [
        "# Define uma função `to_markdown()` que converte texto em formato Markdown\n",
        "def to_markdown(text):\n",
        "    # Substitui todos os pontos (`.`) por asteriscos (`*`)\n",
        "    text = text.replace('.', '*')\n",
        "\n",
        "    # Recua o texto com três espaços\n",
        "    return Markdown(textwrap.indent(text, '>', predicate=lambda x: True))\n",
        "\n",
        "# Imprime o histórico da conversa\n",
        "for message in chat.history:\n",
        "    # Converte o texto da mensagem em formato Markdown\n",
        "    formatted_text = to_markdown(f'**{message.role}**: {message.parts[0].text}')\n"
      ]
    },
    {
      "cell_type": "code",
      "execution_count": null,
      "metadata": {
        "id": "cp4P7naebayI"
      },
      "outputs": [],
      "source": [
        "def crar_pdf(noticias):\n",
        "    doc = SimpleDocTemplate(f\"{nome_artigo}.pdf\", pagesize=letter)\n",
        "    styles = getSampleStyleSheet()\n",
        "\n",
        "    # Lista para armazenar o conteúdo das notícias\n",
        "    conteudo = []\n",
        "\n",
        "    # Adiciona um cabeçalho ao documento\n",
        "    cabeçalho = Paragraph(f\"{tem_artigo}\", styles[\"Title\"])\n",
        "    conteudo.append(cabeçalho)\n",
        "    conteudo.append(Spacer(1, 12))\n",
        "\n",
        "    # Adiciona o histórico da conversa ao documento\n",
        "    conteudo.append(Paragraph(\"Artigo:\", styles[\"Heading2\"]))\n",
        "    for mensagem in chat.history:\n",
        "        texto_formatado = markdown2.markdown(f\"**{mensagem.role}**: {mensagem.parts[0].text}\")\n",
        "        conteudo.append(Paragraph(texto_formatado, styles[\"Normal\"]))\n",
        "        conteudo.append(Spacer(1, 6))  # Espaçamento menor entre mensagens\n",
        "\n",
        "    # Adiciona as notícias ao documento (se houver)\n",
        "    for i, noticia in enumerate(noticias, start=1):\n",
        "        paragrafo = Paragraph(f\"<b>Artigo {i}:</b> {noticia}\", styles[\"Normal\"])\n",
        "        conteudo.append(paragrafo)\n",
        "        conteudo.append(Spacer(1, 12))\n",
        "\n",
        "    doc.build(conteudo)\n",
        "\n",
        " # Exemplo de utilização (mantendo o mesmo código)\n",
        "def main():\n",
        "    num_noticias = 1  # Defina o número de notícias desejado\n",
        "    noticias = []\n",
        "    for i in range(num_noticias):\n",
        "        noticia = formatted_text,  # Substitua por sua fonte de notícias\n",
        "        noticias.append(noticia)\n",
        "\n",
        "    crar_pdf(noticias)\n",
        "    print(\"PDF gerado com sucesso!\")\n",
        "\n",
        "if __name__ == \"__main__\":\n",
        "    main()"
      ]
    },
    {
      "cell_type": "code",
      "execution_count": null,
      "metadata": {
        "id": "Nfmbag7sba06"
      },
      "outputs": [],
      "source": []
    }
  ],
  "metadata": {
    "colab": {
      "collapsed_sections": [
        "a50zbh2JL98w",
        "kvEa8Yl7MHI1"
      ],
      "provenance": []
    },
    "kernelspec": {
      "display_name": "Python 3",
      "name": "python3"
    },
    "language_info": {
      "name": "python"
    }
  },
  "nbformat": 4,
  "nbformat_minor": 0
}